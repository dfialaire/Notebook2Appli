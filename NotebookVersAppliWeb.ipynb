{
 "cells": [
  {
   "cell_type": "markdown",
   "metadata": {},
   "source": [
    "<h1>Transformation d'un Jupyter Notebook en Appli Web !</h1>"
   ]
  },
  {
   "cell_type": "markdown",
   "metadata": {},
   "source": [
    "<u>Somaire : </u>\n",
    "<li><span><a href=\"#-I.-Exécution-d'un-Jupyter-Notebook-locallement-:-\" data-toc-modified-id=\"-I.-Exécution-d'un-Jupyter-Notebook-locallement-:-\"><span class=\"toc-item-num\">I&nbsp;&nbsp;</span> Exécution d'un Jupyter Notebook locallement : </a></span></li>\n",
    "\n",
    "<li><span><a href=\"#-A.-Import-de-modules-préalables-:-\" data-toc-modified-id=\"-A.-Import-de-modules-préalables-:-\"><span class=\"toc-item-num\">&nbsp;&nbsp;A&nbsp;&nbsp;</span> Import de modules préalables : </a></span></li>\n",
    "\n",
    "<li><span><a href=\"#-B.-Script-de-création-et-d'ouverture-d'une-carte-:-\" data-toc-modified-id=\"-B.-Script-de-création-et-d'ouverture-d'une-carte-:-\"><span class=\"toc-item-num\">&nbsp;&nbsp;B&nbsp;&nbsp;</span> Script de création et d'ouverture d'une carte : </a></span></li>\n",
    "\n",
    "<li><span><a href=\"#-II.-Obtention-de-l'Appli-Web-correspondante-au-notebook-:-\" data-toc-modified-id=\"-II.-Obtention-de-l'Appli-Web-correspondante-au-notebook-:-\"><span class=\"toc-item-num\">II&nbsp;&nbsp;</span> Obtention de l'Appli Web correspondante au notebook : </a></span></li>\n",
    "\n",
    "<li><span><a href=\"#-A.-Stratégie-globale-:-\" data-toc-modified-id=\"-A.-Stratégie-globale-:-\"><span class=\"toc-item-num\">&nbsp;&nbsp;A&nbsp;&nbsp;</span> Stratégie globale : </a></span></li>\n",
    "\n",
    "<li><span><a href=\"#-B.-Script-de-création-et-d'ouverture-d'une-carte-:-\" data-toc-modified-id=\"-B.-Script-de-création-et-d'ouverture-d'une-carte-:-\"><span class=\"toc-item-num\">&nbsp;&nbsp;B&nbsp;&nbsp;</span> Script de création et d'ouverture d'une carte : </a></span></li>"
   ]
  },
  {
   "cell_type": "markdown",
   "metadata": {},
   "source": [
    "<H2><u> I. Exécution d'un Jupyter Notebook locallement : </u></H2>"
   ]
  },
  {
   "cell_type": "markdown",
   "metadata": {},
   "source": [
    "<H4><u> A. Import de modules préalables : </u></H4>"
   ]
  },
  {
   "cell_type": "markdown",
   "metadata": {},
   "source": [
    "<u><i>Exécutez la cellule ci-dessous ; </i></u><br>\n",
    "Si un message d'erreur, type module inexistant, apparait : il vous faudra les installer...<br>\n",
    "==> Si vous travaillez avec Edupython : faire : Outils->Outils->installer un module avec pip <br>\n",
    "<i>(Normalement, Edupython 3.7.6 __ 2020 possède tous ces modules.)</i>"
   ]
  },
  {
   "cell_type": "code",
   "execution_count": 4,
   "metadata": {},
   "outputs": [],
   "source": [
    "import folium\n",
    "import os"
   ]
  },
  {
   "cell_type": "markdown",
   "metadata": {},
   "source": [
    "<H4><u> B. Script de création et d'ouverture d'une carte : </u></H4>"
   ]
  },
  {
   "cell_type": "markdown",
   "metadata": {},
   "source": [
    "--> Exécutez le script suivant pour obtenir la carte interactive dans le notebook.."
   ]
  },
  {
   "cell_type": "code",
   "execution_count": 5,
   "metadata": {
    "scrolled": false
   },
   "outputs": [
    {
     "name": "stdout",
     "output_type": "stream",
     "text": [
      "Voici la carte localisant mon lycée ; Vous pouvez cliquer sur l'icone bleue pour avoir des informations..\n"
     ]
    },
    {
     "data": {
      "text/html": [
       "<div style=\"width:100%;\"><div style=\"position:relative;width:100%;height:0;padding-bottom:60%;\"><iframe src=\"about:blank\" style=\"position:absolute;width:100%;height:100%;left:0;top:0;border:none !important;\" data-html=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 onload=\"this.contentDocument.open();this.contentDocument.write(atob(this.getAttribute('data-html')));this.contentDocument.close();\" allowfullscreen webkitallowfullscreen mozallowfullscreen></iframe></div></div>"
      ],
      "text/plain": [
       "<folium.folium.Map at 0x1cb9ec79148>"
      ]
     },
     "execution_count": 5,
     "metadata": {},
     "output_type": "execute_result"
    }
   ],
   "source": [
    "print(\"Voici la carte localisant mon lycée ; Vous pouvez cliquer sur l'icone bleue pour avoir des informations..\")\n",
    "c= folium.Map(location=[49.25112, 4.0271],zoom_start=20)\n",
    "folium.Marker([49.2510, 4.0274],popup=\"Lycee Libergier : propose les filieres des sciences et technologies de laboratoire, des sciences et technologies de la gestion et des sciences et technologies de la sante et du social, mais il offre aussi des formations classiques.\").add_to(c)\n",
    "c.save('CarteLibergier.html')\n",
    "# adress=Lieu+\"\\CarteLibergier.html\"\n",
    "c.add_child(folium.LatLngPopup())\n",
    "c"
   ]
  },
  {
   "cell_type": "markdown",
   "metadata": {},
   "source": [
    "<H2><u> II. Obtention de l'Appli Web correspondante au notebook : </u></H2>"
   ]
  },
  {
   "cell_type": "markdown",
   "metadata": {},
   "source": [
    "Il est souvent intéressant lorsque l'on crée une application en python de n'avoir que le visuel de l'application, sans le code : <br>\n",
    "Autrement dit, ici, l'appli ne présenterait que la carte et la consigne.."
   ]
  },
  {
   "cell_type": "markdown",
   "metadata": {},
   "source": [
    "<H4><u> A. Stratégie globale : </u></H4>"
   ]
  },
  {
   "cell_type": "markdown",
   "metadata": {},
   "source": [
    "On va passer par une plateforme en ligne, <b>Binder</b>, qui est capable d'éxécuter en ligne un script python (notre notebook) qui serait placé dans un dépot <b>Github</b>.<br>\n",
    "<u>Binder nous permettra soit :</u>\n",
    "<li> d'accéder à un vrai notebook en ligne : idéal pour les personnes ne dispossant pas de python sur leur machine !</li>\n",
    "<li> d'accéder à une page web ne contenant que les output (sorties = visuels) de notre notebook : notre Appli Web.</li><br>\n",
    ".. <i>Attention</i> , selon les modules nécessaires à votre script, il sera peut être nécessaire de dire à Binder de télécharger ces modules avant d'ouvrir l'application : ce sera l'utilité d'une fichier <b><i>requirements.txt</i></b>"
   ]
  },
  {
   "cell_type": "markdown",
   "metadata": {},
   "source": [
    "<H4><u> B. 1ère étape : Création d'un compte Github et d'un dépôt </u></H4>"
   ]
  },
  {
   "cell_type": "markdown",
   "metadata": {},
   "source": [
    "<li>Rendez-vous sur Github : </li>\n",
    "<img src=\"git.jpg\"  width=50px alt=\"\" />\n",
    "\n",
    "https://github.com\n",
    "    <br/><br>\n",
    "\n",
    "<li>Cliquer sur Sign up, et remplissez le formulaire (il vous faut une adresse mail)</li>\n",
    "<li>Vérifier votre adresse @mail pour confirmer l'inscription en cliquant sur le lien qui vous ramène à Github</li>\n",
    "<li>Cliquer, en haut à droite, sur votre identifiant, et dans le menu sur : 'Your repositories' (vos dépôts)</li>\n",
    "<li> Cliquer sur 'New' pour créer un nouveau dépôt</li>\n",
    "    <li>Donner un nom à votre dépôt, une description, rester en <b>public</b>, cocher la case '<b>Add a readme</b>', puis cliquer sur 'Create repository'.</li>\n",
    "==> Vous arrivez à votre page de ce dépôt,<br>\n",
    "<li>Cliquer, en haut, sur le bouton 'Add file', et choisissez 'Upload file'</li>\n",
    "<li>Cliquer sur 'Choose file', repérer/cliquer votre notebook (celui-ci, par exemple), <u>et surtout, n'oublier pas de cliquer sur 'Commit changes' (pour valider)</u>.</li>\n"
   ]
  },
  {
   "cell_type": "markdown",
   "metadata": {},
   "source": [
    "<H4><u> C. 2ème étape : Création d'un lien Binder </u></H4>"
   ]
  },
  {
   "cell_type": "markdown",
   "metadata": {},
   "source": [
    "<li>Avant de sortir de votre dépôt, copiez l'URL (l'adresse) de votre dépôt se trouvant dans la barre d'adresse de votre navigateur</li>\n",
    "<li>rendez-vous sur MyBinder :</li>\n",
    "<img src=\"bind.jpg\"  width=150px alt=\"\" />\n",
    "\n",
    "https://mybinder.org/\n",
    "    <br/><br>\n",
    "<img src=\"bind2.jpg\"   alt=\"\" />\n",
    "\n",
    "<li>Dans l'encadré 1, coller l'URL de votre dépôt Github</li>\n",
    "<li>Dans l'encadré 2, ecrire : /voila/render/le_nom_du_notebook.ipynb</li>\n",
    "(<i>écrivez bien le vrai nom de votre notebook</i>)<br>\n",
    "<li>En 3, cliquer sur File, et choisir 'URL'</li>\n",
    "<li>Enfin, cliquer en 4, sur le triangle bleu.. 2 URL de badges apparaissent : Copier <u>la 1ère</u> (en cliquant sur l'icone).</li>\n"
   ]
  },
  {
   "cell_type": "markdown",
   "metadata": {},
   "source": [
    "<H4><u> D. Dernière étape : Lancement de l'appli et ajout de modules </u></H4>"
   ]
  },
  {
   "cell_type": "markdown",
   "metadata": {},
   "source": [
    "<li>Revenez à votre dépôt Github</li>\n",
    "<img src=\"git.jpg\"  width=50px alt=\"\" />\n",
    "\n",
    "==><i>Nous allons modifier l'en-tête de notre dépôt (le Read me) pour garder une trace de notre lien à l'appli :<br><br>\n",
    "    <li>Dans la liste des fichiers de votre dépôt, cliquer sur le fichier README.md</li>\n",
    "    --> Le fichier s'ouvre : il contient, pour l'instant, le nom de votre dépôt et la description.<br><br>\n",
    "<li>En haut à droite du contenu du readme, vous trouverez 3 icônes (écran, crayon et poubelle) : cliquer sur le crayon (=modifier)</li>\n",
    "    ==><i>un éditeur de texte s'ouvre pour nous permettre de modifier le readme.</i><br><br>\n",
    "    <li>Rajouter (coller ( ctrl V ) ) le lien binder que vous aviez copié.</li>\n",
    "    <li>Descendre dans la page, et cliquer sur le bouton vert (Commit changes)</li>\n",
    "    --> Voici à quoi doit ressembler votre dépôt :\n",
    "    <img src=\"VisuelDepot.jpg\"  width=750px alt=\"\" />\n"
   ]
  },
  {
   "cell_type": "code",
   "execution_count": null,
   "metadata": {},
   "outputs": [],
   "source": []
  }
 ],
 "metadata": {
  "kernelspec": {
   "display_name": "Python 3",
   "language": "python",
   "name": "python3"
  },
  "language_info": {
   "codemirror_mode": {
    "name": "ipython",
    "version": 3
   },
   "file_extension": ".py",
   "mimetype": "text/x-python",
   "name": "python",
   "nbconvert_exporter": "python",
   "pygments_lexer": "ipython3",
   "version": "3.7.6"
  }
 },
 "nbformat": 4,
 "nbformat_minor": 2
}
